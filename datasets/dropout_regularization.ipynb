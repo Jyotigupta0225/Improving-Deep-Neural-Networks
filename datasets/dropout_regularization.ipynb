{
 "cells": [
  {
   "cell_type": "markdown",
   "metadata": {},
   "source": [
    "## DroupOut Reguralization"
   ]
  },
  {
   "cell_type": "code",
   "execution_count": 1,
   "metadata": {},
   "outputs": [],
   "source": [
    "# Importing libraries\n",
    "import numpy as np\n",
    "import pandas as pd\n",
    "import h5py\n",
    "import matplotlib.pyplot as plt\n",
    "from sklearn.metrics import accuracy_score"
   ]
  },
  {
   "cell_type": "code",
   "execution_count": 19,
   "metadata": {},
   "outputs": [],
   "source": [
    "# Loading the data (cat/non-cat)\n",
    "def load_dataset():\n",
    "    \"\"\"Loads the Cat vs Non-Cat dataset\n",
    "\n",
    "    Returns\n",
    "    -------\n",
    "    X_train, y_train, X_test, y_test, classes: Arrays\n",
    "    Dataset splitted into train and test with classes\n",
    "    \"\"\"\n",
    "    train_dataset = h5py.File('train_catvnoncat.h5', \"r\")\n",
    "    train_set_x_orig = np.array(train_dataset[\"train_set_x\"][:])\n",
    "    train_set_y_orig = np.array(train_dataset[\"train_set_y\"][:])\n",
    "\n",
    "    test_dataset = h5py.File('test_catvnoncat.h5', \"r\")\n",
    "    test_set_x_orig = np.array(test_dataset[\"test_set_x\"][:])\n",
    "    test_set_y_orig = np.array(test_dataset[\"test_set_y\"][:])\n",
    "\n",
    "    classes = np.array(test_dataset[\"list_classes\"][:])\n",
    "    \n",
    "    return train_set_x_orig, train_set_y_orig, test_set_x_orig, test_set_y_orig, classes"
   ]
  },
  {
   "cell_type": "code",
   "execution_count": 20,
   "metadata": {},
   "outputs": [],
   "source": [
    "# Calculating sigmoid\n",
    "def sigmoid(Z):\n",
    "    return 1/(1+np.exp(-Z))"
   ]
  },
  {
   "cell_type": "code",
   "execution_count": 21,
   "metadata": {},
   "outputs": [],
   "source": [
    "# Calculating tanh\n",
    "def tanh(Z):\n",
    "    return np.tanh(Z)"
   ]
  },
  {
   "cell_type": "code",
   "execution_count": 22,
   "metadata": {},
   "outputs": [],
   "source": [
    "# Calculating relu\n",
    "def relu(Z):\n",
    "    return np.maximum(Z, 0)"
   ]
  },
  {
   "cell_type": "code",
   "execution_count": 23,
   "metadata": {},
   "outputs": [],
   "source": [
    "# Calculating leaky-relu\n",
    "def leaky_relu(Z, alpha = 0.01):\n",
    "    np.where(Z > 0, Z, Z * alpha)"
   ]
  },
  {
   "cell_type": "code",
   "execution_count": 24,
   "metadata": {},
   "outputs": [],
   "source": [
    "# Calculating first derivative of sigmoid\n",
    "def dif_sigmoid(Z):\n",
    "    return (1-np.power(Z, 2))"
   ]
  },
  {
   "cell_type": "code",
   "execution_count": 25,
   "metadata": {},
   "outputs": [],
   "source": [
    "# Calculating first derivative of tanh\n",
    "def dif_tanh(Z):\n",
    "    return 1-(tanh(Z)**2)"
   ]
  },
  {
   "cell_type": "code",
   "execution_count": 26,
   "metadata": {},
   "outputs": [],
   "source": [
    "# Calculating first derivative of relu\n",
    "def dif_relu(Z):\n",
    "    return (Z>0).astype(Z.dtype)"
   ]
  },
  {
   "cell_type": "code",
   "execution_count": 27,
   "metadata": {},
   "outputs": [],
   "source": [
    "# Calculating first derivative of leaky relu\n",
    "def dif_leaky_relu(Z, alpha = 0.01):\n",
    "    dz = np.ones_like(Z)\n",
    "    dz[Z < 0] = alpha\n",
    "    return dz"
   ]
  },
  {
   "cell_type": "code",
   "execution_count": 28,
   "metadata": {},
   "outputs": [],
   "source": [
    "#Get activation function\n",
    "def activation_fun(name):\n",
    "    if name=='relu':\n",
    "        return relu\n",
    "    elif name=='sigmoid':\n",
    "        return sigmoid\n",
    "    elif name=='leaky_relu':\n",
    "        return leaky_relu\n",
    "    elif name=='tanh':\n",
    "        return tanh\n",
    "    else:\n",
    "        return tanh"
   ]
  },
  {
   "cell_type": "code",
   "execution_count": 29,
   "metadata": {},
   "outputs": [],
   "source": [
    "#Get first derivative of activation function\n",
    "def derivative_activation(name):\n",
    "    if name=='relu':\n",
    "        return dif_relu\n",
    "    elif name=='sigmoid':\n",
    "        return dif_sigmoid\n",
    "    elif name=='leaky_relu':\n",
    "        return dif_leaky_relu\n",
    "    elif name=='tanh':\n",
    "        return dif_tanh\n",
    "    else:\n",
    "        return dif_tanh"
   ]
  },
  {
   "cell_type": "code",
   "execution_count": 30,
   "metadata": {},
   "outputs": [
    {
     "name": "stdout",
     "output_type": "stream",
     "text": [
      "train_set_x_orig shape (209, 64, 64, 3)\n",
      "train_set_y_orig (209,)\n",
      "test_set_x_orig (50, 64, 64, 3)\n",
      "test_set_y_orig (50,)\n",
      "classes (2,)\n"
     ]
    }
   ],
   "source": [
    "# Printing the shape of the training and testing data\n",
    "train_set_x_orig, train_set_y_orig, test_set_x_orig, test_set_y_orig, classes = load_dataset()\n",
    "print('train_set_x_orig shape', train_set_x_orig.shape)\n",
    "print('train_set_y_orig',train_set_y_orig.shape)\n",
    "print(\"test_set_x_orig\",test_set_x_orig.shape)\n",
    "print(\"test_set_y_orig\",test_set_y_orig.shape)\n",
    "print('classes',classes.shape)"
   ]
  },
  {
   "cell_type": "code",
   "execution_count": 31,
   "metadata": {},
   "outputs": [],
   "source": [
    "# Reshape the training and test examples\n",
    "def preprocess(train_set_x_orig, train_set_y_orig, test_set_x_orig, test_set_y_orig):\n",
    "    train_x = train_set_x_orig.reshape(train_set_x_orig.shape[0], train_set_x_orig.shape[1]*train_set_x_orig.shape[2]*train_set_x_orig.shape[3])/255.\n",
    "    test_x = test_set_x_orig.reshape(test_set_x_orig.shape[0],test_set_x_orig.shape[1]*test_set_x_orig.shape[2]*test_set_x_orig.shape[3])/255.\n",
    "    train_y = train_set_y_orig.reshape(-1,1)\n",
    "    test_y = test_set_y_orig.reshape(-1,1)\n",
    "    print('train_x shape', train_x.shape)\n",
    "    print('train_y',train_y.shape)\n",
    "    print(\"test_x\",test_x.shape)\n",
    "    print(\"test_y\",test_y.shape)\n",
    "    return train_x,test_x,train_y,test_y"
   ]
  },
  {
   "cell_type": "code",
   "execution_count": 32,
   "metadata": {},
   "outputs": [],
   "source": [
    "#Defining initail weights and bias to dictanary w and b\n",
    "def initial_weights(X,Y,h_nodes,hidden_layer):\n",
    "    \"\"\"\n",
    "    This function creates a vector of zeros of shape (X.shape[1], 1) for w and initializes b to 0.\n",
    "    \n",
    "    Argument:\n",
    "    X -- training dataset\n",
    "    h_nodes -- number of hidden nodes in each hidden laayer, list\n",
    "    hidden_layer -- number of hidden layers\n",
    "    \n",
    "    Returns:\n",
    "    w -- dict of initialized vector of shape (X.shape[1], hidden_nodes)\n",
    "    b -- dict of initialized scalar (corresponds to the bias)\n",
    "    \"\"\"\n",
    "    np.random.seed(42) \n",
    "    x_nodes = X.shape[1]\n",
    "    y_nodes = Y.shape[1]\n",
    "\n",
    "    w = {}\n",
    "    b = {} \n",
    "    \n",
    "    for i in range(len(h_nodes)):\n",
    "        if i==0:\n",
    "            n_l_1 = x_nodes\n",
    "        else:\n",
    "            n_l_1 = h_nodes[i-1]\n",
    "        \n",
    "        w[i] = np.random.randn(n_l_1 ,h_nodes[i])*np.sqrt(2/n_l_1)\n",
    "        b[i] = np.random.randn(1,h_nodes[i]) * np.sqrt(2/n_l_1)\n",
    " \n",
    "    return w,b"
   ]
  },
  {
   "cell_type": "code",
   "execution_count": 33,
   "metadata": {},
   "outputs": [],
   "source": [
    "# FORWARD PROPAGATION\n",
    "def forward_propagate(X,w,b, activation,hidden_layer,h_nodes,drop_prob):\n",
    "    \"\"\"\n",
    "    This functions performs forward propagation and calculates output value\n",
    "    \n",
    "    Argument:\n",
    "    X -- training dataset\n",
    "    w -- dict of weights\n",
    "    b -- dict of bias\n",
    "    activationion -- list of actiations used at particular hidden layer\n",
    "    hidden_layer -- number of hidden layers, integer\n",
    "    h_nodes -- number of hidden nodes in each hidden laayer, list\n",
    "    \n",
    "    Returns:\n",
    "    A -- yhat for the training data, dict\n",
    "    Z -- Dot product between X and w , dict\n",
    "    \"\"\"\n",
    "    m = X.shape[0]\n",
    "    keep_prob = 1 - drop_prob\n",
    "    Z = {}\n",
    "    A = {}    \n",
    "    random_A = {}\n",
    "    for l in range(len(h_nodes)):\n",
    "#         print(l)\n",
    "        if l == 0:\n",
    "            input_X = X\n",
    "        else:\n",
    "            input_X = A[l-1]\n",
    "        Z[l] = (np.dot(input_X,w[l])+b[l])\n",
    "        A[l] = activation_fun(activation[l])(Z[l])\n",
    "        \n",
    "        if l!=len(h_nodes)-1:\n",
    "            d = np.random.rand(A[l].shape[0],A[l].shape[1]) < keep_prob\n",
    "#             random_A[l] = d\n",
    "            A[l] = np.multiply(A[l] , d)\n",
    "            A[l] = A[l]/keep_prob\n",
    "    \n",
    "    return Z, A"
   ]
  },
  {
   "cell_type": "code",
   "execution_count": 34,
   "metadata": {},
   "outputs": [],
   "source": [
    "# Calculating loss using the cost function\n",
    "def costfunction(Y,A):   \n",
    "    \"\"\"\n",
    "    This function calculates the loss between the predicted and actual output\n",
    "    \n",
    "    Argument:\n",
    "    Y -- actual output\n",
    "    A -- predicted output, dict\n",
    "    \n",
    "    Returns:\n",
    "    cost -- loss between the predicted and actual output\n",
    "    \"\"\"\n",
    "    m = Y.shape[0]\n",
    "    last_index = len(A)-1\n",
    "    cost = np.nansum(-1/m*np.sum(Y*np.log(A[last_index]) + (1-Y)*np.log(1-A[last_index])))\n",
    "    return cost"
   ]
  },
  {
   "cell_type": "code",
   "execution_count": 41,
   "metadata": {},
   "outputs": [],
   "source": [
    "# BACKWARD PROPAGATION (TO FIND GRADIENT)\n",
    "def back_prpagate(X,Y,Z,A,w,b,activation, hidden_layer,h_nodes,drop_prob):\n",
    "    \"\"\"Performs backward propagation and calculates derivative value for a layer\n",
    "\n",
    "    Arguments:\n",
    "    X -- array_like Data\n",
    "    Y -- array_like True labels\n",
    "    A -- predicted output, dict\n",
    "    Z -- intermidiate dot product , dict\n",
    "    w -- dict of weights\n",
    "    b -- dict of bias\n",
    "    activationion -- list of actiations used at particular hidden layer\n",
    "    hidden_layer -- number of hidden layers, integer\n",
    "    h_nodes -- number of hidden nodes in each hidden laayer, list    \n",
    "\n",
    "    Returns:\n",
    "    dw -- derivative of weight, dict\n",
    "    db -- derivative of bias,dict\n",
    "    dz -- cache,dict\n",
    "    \"\"\"\n",
    "\n",
    "    m = X.shape[0]\n",
    "    L= hidden_layer \n",
    "    keep_prob = 1-drop_prob\n",
    "#     dz2 = (A2-Y)\n",
    "#     dw2 = 1/m*(np.dot(A1.T,dz2))\n",
    "#     db2 = 1/m*(np.sum(dz2, axis=0, keepdims=True))\n",
    "    \n",
    "#     dz1 = np.dot(dz2, w2.T) * activation_fun(activation)(A1)\n",
    "#     dw1 = 1/m*(np.dot(X.T,dz1))\n",
    "#     db1 = 1/m*(np.sum(dz1, axis=0, keepdims=True))    \n",
    "    dz = {}\n",
    "    da = {}\n",
    "    dw = {}\n",
    "    db = {}\n",
    "    for l in range(len(h_nodes)-1, -1, -1):\n",
    "#         print('A shape', len(A))\n",
    "        if l==len(h_nodes)-1:\n",
    "            dz[l] = (A[l] - Y)\n",
    "            dw[l] = (1./m * np.dot(A[l-1].T, dz[l]))\n",
    "            db[l] = (1./m * np.sum(dz[l]))\n",
    "\n",
    "        else:\n",
    "#             model[i].da *= dropped_neurons[i]\n",
    "#       model[i].da /= keep_prob\n",
    "#       model[i].dz = np.multiply(np.int64(model[i].A>0), model[i].da) * get_derivative_activation_function(model[i].activation)(model[i].Z)\n",
    "            da[l] = (np.dot(dz[l+1], w[l+1].T))\n",
    "            dz[l] = (da[l] * derivative_activation(activation[l])(Z[l]))\n",
    "            if l!=0:\n",
    "                input_X = A[l-1]\n",
    "            else:\n",
    "                input_X = X\n",
    "            dw[l] = (1./m * np.dot(input_X.T, dz[l]))\n",
    "            db[l] = (1./m * np.sum(dz[l]))\n",
    "                \n",
    "    return dz,dw,db"
   ]
  },
  {
   "cell_type": "code",
   "execution_count": 42,
   "metadata": {},
   "outputs": [],
   "source": [
    "#Update weights and bias\n",
    "def update_weights(w,b,dw,db,learning_rate,hidden_layer,h_nodes):\n",
    "    \"\"\"\n",
    "    This function updates the weight and bias\n",
    "    \n",
    "    Argument:\n",
    "    w -- weight\n",
    "    b -- bias\n",
    "    dw -- derivative of weight\n",
    "    db -- derivative of bias\n",
    "    learning_rate --learning_rate , float\n",
    "    hidden_layer -- number of hidden layers, integer\n",
    "    h_nodes -- number of hidden nodes in each hidden laayer, list     \n",
    "    \n",
    "    Returns:\n",
    "    w -- weight , dict\n",
    "    b -- bias , dict\n",
    "    \"\"\"\n",
    "    L=hidden_layer\n",
    "    for i in range(len(h_nodes)):\n",
    "        w[i] = w[i] - learning_rate*dw[i] \n",
    "        b[i] = b[i] - learning_rate*db[i]\n",
    "    return w,b"
   ]
  },
  {
   "cell_type": "code",
   "execution_count": 43,
   "metadata": {},
   "outputs": [],
   "source": [
    "#Training the model\n",
    "def train_model(X,Y,test_x,test_y,w,b, learning_rate,num_iterations,activation,hidden_layer,h_nodes,drop_prob):\n",
    "    \"\"\"\n",
    "    This function  trains the model with the number of iterations\n",
    "    \n",
    "    Arguments:\n",
    "    w -- weight , dict\n",
    "    b -- bias, dict\n",
    "    X -- training data \n",
    "    Y -- true \"label\" vector (containing 0 if non-cat, 1 if cat), of shape (1, number of examples)\n",
    "    num_iterations -- number of iterations of the optimization loop\n",
    "    learning_rate -- learning rate of the gradient descent update rule\n",
    "    activationion -- list of actiations used at particular hidden layer\n",
    "    hidden_layer -- number of hidden layers, integer\n",
    "    h_nodes -- number of hidden nodes in each hidden laayer, list \n",
    "    \n",
    "    Returns:\n",
    "    w -- weight\n",
    "    b -- bias\n",
    "    dw -- derivative of weight\n",
    "    db -- derivative of bias\n",
    "    cost -- loss     \n",
    "    \"\"\"\n",
    "    for i in range(num_iterations):\n",
    "        \n",
    "        Z,A = forward_propagate(X,w,b,activation,hidden_layer,h_nodes,drop_prob)\n",
    "        cost = costfunction(Y,A)\n",
    "        dz,dw,db = back_prpagate(X,Y,Z,A,w,b,activation,hidden_layer,h_nodes,drop_prob)\n",
    "        w,b = update_weights(w,b,dw,db,learning_rate,hidden_layer,h_nodes)\n",
    "        \n",
    "        if i%(num_iterations/10) == 0:\n",
    "\n",
    "            _,A_train = forward_propagate(X,w,b, activation,hidden_layer,h_nodes,drop_prob)\n",
    "            A_train1 = np.where(A_train[len(A_train)-1]>0.5 , 1, 0)\n",
    "        \n",
    "            _,A_test = forward_propagate(test_x,w,b,activation,hidden_layer,h_nodes,drop_prob)\n",
    "            A_test1 = np.where(A_test[len(A_test)-1]>0.5 , 1, 0)\n",
    "            acc_train = accuracy_score(Y, A_train1)\n",
    "            acc_test = accuracy_score(test_y , A_test1)\n",
    "        \n",
    "            print('Iteration: ', i, end = '')\n",
    "            print('\\tLoss {:.4f}\\t'.format(cost), end = '')\n",
    "            print('\\tTraining Accuracy: {:.4f}\\t'.format(acc_train),end = '')\n",
    "            print('Testing Accuracy: {:.4f}'.format(acc_test))\n",
    "    return w,b,dw,db, cost"
   ]
  },
  {
   "cell_type": "code",
   "execution_count": 44,
   "metadata": {},
   "outputs": [],
   "source": [
    "def model(train_set_x_orig, train_set_y_orig, test_set_x_orig, test_set_y_orig, classes, num_iterations, learning_rate,drop_prob):\n",
    "    train_x,test_x,train_y,test_y = preprocess(train_set_x_orig, train_set_y_orig, test_set_x_orig, test_set_y_orig)\n",
    "    hidden_layer = 4\n",
    "    h_nodes = [20,16,8,4,train_y.shape[1]]\n",
    "    activation = ['relu','relu','relu','relu','sigmoid']\n",
    "    w,b = initial_weights(train_x,train_y,h_nodes,hidden_layer)\n",
    "    w,b,dw,db,cost = train_model(train_x,train_y,test_x,test_y,w,b,learning_rate=learning_rate,num_iterations=num_iterations,\n",
    "                                 activation = activation, hidden_layer = hidden_layer,h_nodes = h_nodes,drop_prob = drop_prob)"
   ]
  },
  {
   "cell_type": "code",
   "execution_count": 45,
   "metadata": {},
   "outputs": [
    {
     "name": "stdout",
     "output_type": "stream",
     "text": [
      "train_x shape (209, 12288)\n",
      "train_y (209, 1)\n",
      "test_x (50, 12288)\n",
      "test_y (50, 1)\n",
      "Iteration:  0\tLoss 0.6436\t\tTraining Accuracy: 0.6555\tTesting Accuracy: 0.3200\n",
      "Iteration:  1\tLoss 0.6550\t\tTraining Accuracy: 0.6555\tTesting Accuracy: 0.3400\n",
      "Iteration:  2\tLoss 0.6495\t\tTraining Accuracy: 0.6555\tTesting Accuracy: 0.3400\n",
      "Iteration:  3\tLoss 0.6485\t\tTraining Accuracy: 0.6507\tTesting Accuracy: 0.3400\n",
      "Iteration:  4\tLoss 0.6502\t\tTraining Accuracy: 0.6555\tTesting Accuracy: 0.3400\n",
      "Iteration:  5\tLoss 0.6519\t\tTraining Accuracy: 0.6555\tTesting Accuracy: 0.3400\n",
      "Iteration:  6\tLoss 0.6394\t\tTraining Accuracy: 0.6555\tTesting Accuracy: 0.3400\n",
      "Iteration:  7\tLoss 0.6322\t\tTraining Accuracy: 0.6555\tTesting Accuracy: 0.3400\n",
      "Iteration:  8\tLoss 0.6485\t\tTraining Accuracy: 0.6555\tTesting Accuracy: 0.3400\n",
      "Iteration:  9\tLoss 0.6553\t\tTraining Accuracy: 0.6555\tTesting Accuracy: 0.3400\n"
     ]
    }
   ],
   "source": [
    "train_set_x_orig, train_set_y_orig, test_set_x_orig, test_set_y_orig, classes = load_dataset()\n",
    "# num_iterations = int(input(\"Enter iterations : \"))\n",
    "# learning_rate = float(input(\"Enter learning rate : \"))\n",
    "num_iterations = 10\n",
    "learning_rate = 0.005\n",
    "drop_prob = 0.2\n",
    "model(train_set_x_orig, train_set_y_orig, test_set_x_orig, test_set_y_orig, classes, num_iterations, learning_rate,drop_prob)"
   ]
  },
  {
   "cell_type": "markdown",
   "metadata": {},
   "source": [
    "#### Note - We can try different hyper-parameters to get better testing accuracy"
   ]
  },
  {
   "cell_type": "code",
   "execution_count": null,
   "metadata": {},
   "outputs": [],
   "source": []
  }
 ],
 "metadata": {
  "kernelspec": {
   "display_name": "Python 3",
   "language": "python",
   "name": "python3"
  },
  "language_info": {
   "codemirror_mode": {
    "name": "ipython",
    "version": 3
   },
   "file_extension": ".py",
   "mimetype": "text/x-python",
   "name": "python",
   "nbconvert_exporter": "python",
   "pygments_lexer": "ipython3",
   "version": "3.7.3"
  }
 },
 "nbformat": 4,
 "nbformat_minor": 2
}
